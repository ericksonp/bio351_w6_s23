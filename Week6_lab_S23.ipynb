{
 "cells": [
  {
   "cell_type": "markdown",
   "id": "8545396f",
   "metadata": {},
   "source": [
    "# Biology 351 Lab: Week 6-intro to UNIX\n",
    "\n",
    "## Processing sequencing reads and mapping to a reference genome\n",
    "\n",
    "### Introduction to today's lab:\n",
    "\n",
    "- You are reading a Jupyter notebook. It is similar to an R notebook in that we can intermix code and text. It is divided into \"cells\". Some cells just contain text, others contain code.  \n",
    "\n",
    "- **I recommend you set up a split screen**. Drag the top of this tab over to the right portion of your screen until it makes a light blue box, then release. That will put your terminal window next to the notebook.\n",
    "\n",
    "- **To edit text in any box, double click** and you will enter into an editing mode. To stop editing, hit \"Run\"--the button at the top of the screen with a triangle on it. DO NOT hit \"Run\" on the code blocks--the code will need to be copied to terminal to run correctly.\n",
    "\n",
    "- Pro tip: triple-click on a line to highlight the entire line to copy and paste.\n",
    "\n",
    "- Make sure you complete all the steps in today's lab; I will be checking your folders to make sure that you successfully made/moved all the files and folders as requested below. If you run into trouble, just ask for help!\n",
    "\n",
    "- When you answer questions, please leave the **QUESTION:Text** and add your answer after the end of the question; this makes it easier for me to find the questions and check your answers.\n",
    "\n",
    "- Save your work regularly (it should auto-save, but just to be safe)\n",
    "\n"
   ]
  },
  {
   "cell_type": "markdown",
   "id": "c4afd3c8",
   "metadata": {},
   "source": [
    "## Part 1: Learning our way around `spydur`\n",
    "\n",
    "1.\tTime for our first command. We are going to generate a “key” that will allow us to log in to the UR computing cluster, `spydur`, without having to enter our password every time! In your **terminal window**, type: `ssh-keygen`\n",
    "\n",
    "    It will ask you to create a password, but we do not need one. Hit enter for each question (in other words we are NOT going to put a password on our key)\n",
    "\n",
    "    Somewhere it is going to say something along the lines of: `Your public key has been saved in [/home/[netid]/.ssh/id_rsa.pub`\n",
    "\n",
    "**QUESTION: Copy that line and paste it here to confirm that you have a key**"
   ]
  },
  {
   "cell_type": "markdown",
   "id": "67424faa",
   "metadata": {},
   "source": [
    "2.\tNow we need to copy this key onto Spydur, the computing cluster, to allow us to log on in the future. Replace the file name you copied above (starting with `/home/` into the code below and change `YOURNETID` in front of the `@spydur` to your computing id. Then copy the entire line into terminal and hit enter. DO NOT hit Run on the next code block from this notebook, it will cause problems. But if you do by accient, just go to Kernel--> Interrupt. All of the code needs to be copied into your Terminal to run. "
   ]
  },
  {
   "cell_type": "code",
   "execution_count": null,
   "id": "f2b01764",
   "metadata": {},
   "outputs": [],
   "source": [
    "ssh-copy-id -i /FILE/FROM/LINE/OF/CODE/ABOVE YOURNETID@spydur"
   ]
  },
  {
   "cell_type": "markdown",
   "id": "bcec6ff9",
   "metadata": {},
   "source": [
    "You should be prompted to enter your password.  Do that now. It won't show up that you are typing anything; the cursor will stay in the same place. You get three tries to get it right.\n"
   ]
  },
  {
   "cell_type": "markdown",
   "id": "80097c1e",
   "metadata": {},
   "source": [
    "3. With our keys in place, we are going to connect (`ssh` in Unix lingo) to Spydur to start working. Edit the line below to replace `YOURNETID` with your actual netid, then copy and paste the entire line, including the `ssh`, into your Terminal"
   ]
  },
  {
   "cell_type": "code",
   "execution_count": null,
   "id": "6790de79",
   "metadata": {},
   "outputs": [],
   "source": [
    "ssh YOURNETID@spydur"
   ]
  },
  {
   "cell_type": "markdown",
   "id": "1a2b44c9",
   "metadata": {},
   "source": [
    "4. With any luck, you should be logged into spydur. If not, just ask for help!\n",
    "\n",
    "\n",
    "5.  Let’s do some exploring to learn some basic commands to work in this environment. First find out what folder (or directory, in UNIX-speak) you are in by typing `pwd` in your terminal\n",
    "\n",
    "**QUESTION: What is the name of your current directory? Paste the results of the above command here**"
   ]
  },
  {
   "cell_type": "markdown",
   "id": "bafafc7e",
   "metadata": {},
   "source": [
    "6. You should have seen `/home/yournetid` appear. This is representing your location on the computer in a heirarchical directory. Each slash represents a folder within a folder. So the first folder is `home` and the second folder inside that folder is called `yournetid`.  \n",
    "\n",
    "    The series of folders separated by slashes is called a **path**. Every file on every computer has a path that identifies its location on the computer. Keeping track of our paths is going to be important. We will use an organized set of folders to keep track of our work for the next several weeks of lab. \n",
    "\n",
    "    Your current directory is called your **home directory**—it is where you “are” in the computer when you first log in. \n"
   ]
  },
  {
   "cell_type": "markdown",
   "id": "551804ac",
   "metadata": {},
   "source": [
    "7. Now let’s see what folders are automatically already in this directory. To list all the files and folders in your current folder, type `ls` in your terminal (`ls` is short for \"list\")"
   ]
  },
  {
   "cell_type": "markdown",
   "id": "7e009c87",
   "metadata": {},
   "source": [
    "**QUESTION: What are the folders in your home directory?**"
   ]
  },
  {
   "cell_type": "markdown",
   "id": "251b3954",
   "metadata": {},
   "source": [
    "8. The folder called `shared` is where we will do all of our work for class--it's a folder that we all have access to. So you will be able to access files that your lab partner makes and I will be able to access everyone's work. Please respect the shared nature of this folder and only work on your own files and folders. "
   ]
  },
  {
   "cell_type": "markdown",
   "id": "0a641046",
   "metadata": {},
   "source": [
    "9. You can change directories (ie move to a different folder) with the command `cd` followed by the name of the folder you want to move to. If you are moving to a folder within your current folder, you just need to type the name of the folder you are going to. If you want to move to a folder that is not inside the current folder, you'll have to give the full path. Type `cd shared` in Terminal to move into the `shared` directory."
   ]
  },
  {
   "cell_type": "markdown",
   "id": "3cd39305",
   "metadata": {},
   "source": [
    "**QUESTION: Without checking, predict what the full path of your current location will be. Hint: you started in /home/yournetid. Where are you now after changing directories?**"
   ]
  },
  {
   "cell_type": "markdown",
   "id": "0b3f12b3",
   "metadata": {},
   "source": [
    "10. Now use the appropriate command to confirm your current location. Were you right? "
   ]
  },
  {
   "cell_type": "markdown",
   "id": "5efaeaf0",
   "metadata": {},
   "source": [
    "11. Usually when you change directories it's useful to immediately see what's in that directory. Use the command you learned above to list the contents of the `shared` directory now that you are in it."
   ]
  },
  {
   "cell_type": "markdown",
   "id": "dd2e1d10",
   "metadata": {},
   "source": [
    "**QUESTION: you don't need to name them all, but what are two of the files or folders in the `shared` directory?**"
   ]
  },
  {
   "cell_type": "markdown",
   "id": "2fa6b01b",
   "metadata": {},
   "source": [
    "12. If you accidentally wind up in a folder that you don't want to be in, you can use `cd ..` to move back up a folder. Try it right now: type the following series of commands one at time (without the numbers) to see how you can move between folders, check where you are, check the contents, and move back. You'll need to hit enter after each command. \n",
    "    1. `cd ..`\n",
    "    2. `pwd`\n",
    "    3. `ls`\n",
    "    4. `cd shared`\n",
    "    5. `pwd`\n",
    "    6. `ls`"
   ]
  },
  {
   "cell_type": "markdown",
   "id": "1709c6ee",
   "metadata": {},
   "source": [
    "11.\tNow we are going to make our own folders in the “shared” directory. This will allow me to see your work if you get stuck, but we are going to protect them so that only you can edit the files. To make a directory with your first name, type the command below, but don’t include the `< >`. When teaching code, the carrots `< >` are used to indicate text that needs to be replaced by the user"
   ]
  },
  {
   "cell_type": "code",
   "execution_count": null,
   "id": "903c9cc6",
   "metadata": {},
   "outputs": [],
   "source": [
    "mkdir <your_first_name>"
   ]
  },
  {
   "cell_type": "markdown",
   "id": "6d8011a8",
   "metadata": {},
   "source": [
    "14.\tOne more fun tip: `cd ~` will always take you back to your home directory where you are when you first log in. If you ever get lost, you can always `cd ~`  and find your way to the file you were looking for. "
   ]
  },
  {
   "cell_type": "markdown",
   "id": "89e5f616",
   "metadata": {},
   "source": [
    "## Part 2: Making your own directory and practicing Unix commands\n",
    "\n",
    "15. The commands you used in Terminal (e.g. cd, ls, mkdir) are called Unix commands – these are basically tiny programs that are stored somewhere in your computer and recognized when you  type them into the Terminal. Macs and Linux have these built-in. Windows actually used a whole different set of commands, so there’s external software to help import and access these commands, and in Windows 10, they finally created an easy interface to access these commands. Anyone who does anything computational will know some Unix basics, and just with Unix commands, you can start writing really complex code. We aren’t getting that complex, but we will get good to navigate and use a few of these commands. The following table is a list of major commands we will use regularly. () means you could leave it out, and <> indicates what needs to be included. The ‘path’ can be included, but if it isn’t, the command assumes the current working directory (which you can see by typing pwd). Use the laminated cheat sheet on your table to do the following:"
   ]
  },
  {
   "cell_type": "markdown",
   "id": "9ea006b6",
   "metadata": {},
   "source": [
    "  1. Make a directory (`mkdir` called `Lab6` in your personal folder (for this exercise, your “personal folder” is the folder you just made at `/home/NETID/shared/your_first_name` ) \n",
    "  2. Change directories (`cd`) into the `Lab6` folder. \n",
    "  3. Let’s make a small file: Type `echo “this is mytest” > test.txt` \n",
    "        The ‘>’ is saying send what is printed out into a file with the name you give (here it’s `test.txt`) \n",
    "  4. Check if you successfully made this file by looking at the contents of your `Lab6/` folder (hint: use `ls`)\n",
    "  5. Check if the contents inside the `test.txt` file has the words “this is mytest” (hint: use `less` to see into the file and type \"q\" to exit)\n",
    "  6. Make a new copy of your file called `test_copy.txt` (hint: `cp`)\n",
    "  7. Change the name of your original file to `test2.txt` (hint: `mv`)\n",
    "  8. Check your folder again – do you have only the two files you just made? If you made a few mistakes along the way, you might have a few extra files. You can use `rm` to get rid of them, but be careful, `rm` is permanent~\n",
    "  9. Make a folder called `trash` in your Lab 6 folder (hint: `mkdir`)\n",
    "  10. Move `test2.txt` to `trash`.\n",
    "  11. Navigate to your main folder and confirm that you are in the correct folder with `pwd` \n"
   ]
  },
  {
   "cell_type": "markdown",
   "id": "7d7bf1ce",
   "metadata": {},
   "source": [
    "## Part 3: More advanced file exploration with UNIX to look at a Fastq file\n",
    "\n",
    "16. For the next part, we are going to learn a few more Unix commands to explore a **.fastq** file. \n",
    "    **Fastq files are the raw sequencing files that are returned from a sequencing center containing our Illumina DNA sequencing reads.**\n",
    "\n",
    "    There are 4 lines for each sequencing read in a fastq file (note that some “lines” might take up multiple lines in your terminal depending on the size of the window, but if you make the window wide enough everything will show up in just 4 lines). The four line are:\n",
    "    \n",
    "\n",
    "   1. Begins with @ and contains unique sequence **identifier name** (automatically generated by the sequencing machine and contains a lot of information about the spot on the flow cell that was used to generate the read)\n",
    "\n",
    "\n",
    "   2. **Base pair calls**: A,T,C, or G in order for the total number of bases in the read\n",
    "\n",
    "\n",
    "   3. Begins with **+**, which might be by itself or perhaps repeats the read name again\n",
    "\n",
    "\n",
    "   4. **Quality scores** for each base pair read. Different characters code for different qualities. Higher qualities indicate more confidence in the base call at each position of the read\n"
   ]
  },
  {
   "cell_type": "markdown",
   "id": "68beed41",
   "metadata": {},
   "source": [
    "**QUESTION: Think back to the Illumina sequencing video we watched in the second week of class. What information does the sequencer detect to determine the order of bases in a single sequence?**"
   ]
  },
  {
   "cell_type": "markdown",
   "id": "e89a9c9f",
   "metadata": {},
   "source": [
    "**QUESTION: Given your answer above, why do you think different positions in the read might have different quality scores?** "
   ]
  },
  {
   "cell_type": "markdown",
   "id": "3400b622",
   "metadata": {},
   "source": [
    "**QUESTION: What is meant by \"paired end sequencing?\"**"
   ]
  },
  {
   "cell_type": "markdown",
   "id": "fee3ffb3",
   "metadata": {},
   "source": [
    "17. If the sequencing was conducted using 150 bp paired ends, you will get back two fastq files: one for all the read 1s and one with all the read 2s for every spot on the flow cell. The order of the files is identical, so that the first read in each file are a pair, the second read in each file are a pair, etc. Typically these two files are named with “1.fastq” and “2.fastq” in their names. Each read will be 150 bp long.\n",
    "\n",
    "    Fastq files from real experiments are generally quite large (containing millions of reads), so to get started we are going to look at a shortened set of files that contain some of the *Z. indianus* sequencing data we’ll be looking at.\n",
    "\n",
    "    Use a command from Table 2 to look at the first 8 lines of the read 1 fastq file\n"
   ]
  },
  {
   "cell_type": "markdown",
   "id": "66b830ee",
   "metadata": {},
   "source": [
    "**QUESTION: How many spots on the sequencing flow cell do these 8 lines represent?**"
   ]
  },
  {
   "cell_type": "markdown",
   "id": "1c368b4d",
   "metadata": {},
   "source": [
    "**QUESTION: How many bases and quality scores should be present in the even numbered lines of the file? (don’t count, read the information above)**"
   ]
  },
  {
   "cell_type": "markdown",
   "id": "65742683",
   "metadata": {},
   "source": [
    "18. Use the command from Table 2 that will allow you to count the number of lines in the read 1 and read 2 files."
   ]
  },
  {
   "cell_type": "markdown",
   "id": "4a2486f3",
   "metadata": {},
   "source": [
    "**QUESTION: Why should there be an equal number of lines in the read 1 and read 2 files?**"
   ]
  },
  {
   "cell_type": "markdown",
   "id": "c0ede5b9",
   "metadata": {},
   "source": [
    "**QUESTION: How many lines are in each file?**"
   ]
  },
  {
   "cell_type": "markdown",
   "id": "28b62a3f",
   "metadata": {},
   "source": [
    "**QUESTION: How many _sequences_ are in each file?**"
   ]
  },
  {
   "cell_type": "markdown",
   "id": "12749b0c",
   "metadata": {},
   "source": [
    "**QUESTION: How many base pairs of sequence information are in each file?**"
   ]
  },
  {
   "cell_type": "markdown",
   "id": "51c4b899",
   "metadata": {},
   "source": [
    "#### *If you need a break, this is a good stopping point to rest your eyes and stretch your legs before continuing*"
   ]
  },
  {
   "cell_type": "markdown",
   "id": "b9486449",
   "metadata": {},
   "source": [
    "## Part 4: Using a program to perform an operation on a file"
   ]
  },
  {
   "cell_type": "markdown",
   "id": "6d7fc1b2",
   "metadata": {},
   "source": [
    "19. In Part 3, we saw that there is a quality score included in each sequence in a fastq file. As a reminder, these tell us our confidence in each base pair call. Now we are going to use a program to decode those quality scores in fun way.\n",
    "\n",
    "    The fastqe program is going to turn quality scores into emojis, with happier looking emojis indicating higher qualities and unhappy emojis indicating low quality scores. It will take the average quality score for each position across all the sequences in the fastq file (so the first emoji is the average quality of all the first bases, the second emoji is the average quality of all the second bases, etc)\n",
    "\n",
    "    First we need to install the program:\n",
    "    \n",
    "1.\tNavigate back to the `/shared` directory\n",
    "2.\tType `pip install fastqe` to install the program. \n",
    "3.\tTo run the program, type `fastqe <name_of_fastq_file>` \n",
    "\n"
   ]
  },
  {
   "cell_type": "markdown",
   "id": "034a57fe",
   "metadata": {},
   "source": [
    "**QUESTION: Run the `fastqe` program on each of our fastq files. How do the mean quality scores of the two files seem to compare?**"
   ]
  },
  {
   "cell_type": "markdown",
   "id": "fb9bd94f",
   "metadata": {},
   "source": [
    "**QUESTION: What happens to the quality scores as you move from the beginning of the sequencing read closer to the end?**"
   ]
  },
  {
   "cell_type": "markdown",
   "id": "a86d7619",
   "metadata": {},
   "source": [
    "20. But what do these emojis actually mean? To learn more about how a program works, you can usually access some sort of a manual or help page. There are different ways to do this, but often typing `<program_name> -h` will get you to a help screen. There, it will list information about the program and different options you can use to change the parameters of how a program runs. Use the command above to look at the help screen for fastqe."
   ]
  },
  {
   "cell_type": "markdown",
   "id": "be86ed4f",
   "metadata": {},
   "source": [
    "**QUESTION: Based on the help screen, what option would you use to determine how the emojis are related to a quality score?**"
   ]
  },
  {
   "cell_type": "markdown",
   "id": "3984d00c",
   "metadata": {},
   "source": [
    "21. The general format for adding options is to type `<program_name> <-option> <input_file>` . The key here is to put a dash (-) in front of the option. Some options require two dashes (--). That is the case for fastqe; note that all the options in the list (except -h) have two dashes."
   ]
  },
  {
   "cell_type": "markdown",
   "id": "a3a97248",
   "metadata": {},
   "source": [
    "**QUESTION: Use what you just learned to find out the emoji for a quality score of 9.**"
   ]
  },
  {
   "cell_type": "markdown",
   "id": "860d46d8",
   "metadata": {},
   "source": [
    "22. But what does a quality score of 9 actually mean? The scale that you were able to see in the previous question refers to phred score. Take a look at this explanation of phred scores: https://en.wikipedia.org/wiki/Phred_quality_score"
   ]
  },
  {
   "cell_type": "markdown",
   "id": "5f181129",
   "metadata": {},
   "source": [
    "**QUESTION: What is the approximate error rate of our sequencing based on the typical emoji/Phred scores that you see and the wiki page?**"
   ]
  },
  {
   "cell_type": "markdown",
   "id": "6db92281",
   "metadata": {},
   "source": [
    "## Part 5: Looking at a reference genome file\n",
    "\n",
    "23. Sequencing reads are stored in fastq files (the q stands for quality because it contains quality information). Reference genomes are stored in fasta format, which is a simpler file format made up of two lines for each sequence:\n",
    "1. A line beginning with `>` that has the sequence name\n",
    "2. The sequence itself (As,Ts,Cs, and Gs)\n",
    "\n",
    "    Reference genomes are divided up into chromosomes, scaffolds, or contigs, depending on how well sequenced and assembled the genome is. For now we won’t worry about the differences between the terms. The important point is that each one is a continuous DNA sequence of the organism. Fewer total elements in the reference genome generally indicates a more well-assembled genome. Our genome is assembled to a chromosome level of resolution.\n",
    "\n",
    "    Our reference genome is located at `~/shared/zind_ref_genome.fasta` [remember ~ is a shortcut that gets you back to the home directory, in this case /home/NETID/]\n"
   ]
  },
  {
   "cell_type": "markdown",
   "id": "6fc4ee99",
   "metadata": {},
   "source": [
    "**QUESTION: Use a command you used previously (see Table 2 if you need help) to look at the contents of the reference genome file. What is the name of the first sequence?**"
   ]
  },
  {
   "cell_type": "markdown",
   "id": "6c1c57d8",
   "metadata": {},
   "source": [
    "**QUESTION: Use a command you used previously (see Table 2) to count the number of lines in the reference genome**"
   ]
  },
  {
   "cell_type": "markdown",
   "id": "76a52550",
   "metadata": {},
   "source": [
    "24. Another fun Unix command is `grep`, which is essentially a way to search a file for a text string (like hitting command+F on your computer). The usage is `grep <search_string> <input_file>`"
   ]
  },
  {
   "cell_type": "markdown",
   "id": "6e90bdd2",
   "metadata": {},
   "source": [
    "**QUESTION: What command might you be able to use to find all the lines that have chromosome names in them? (Hint: think about the name of the first sequence above and how you could incorporate it into `grep`) Enter your code into the box below.**"
   ]
  },
  {
   "cell_type": "code",
   "execution_count": null,
   "id": "78519bd9",
   "metadata": {},
   "outputs": [],
   "source": []
  },
  {
   "cell_type": "markdown",
   "id": "30281fe4",
   "metadata": {},
   "source": [
    "**QUESTION: Run your code from the previous question. How many chromosomes does *Z. indianus* have according to this reference genome?**"
   ]
  },
  {
   "cell_type": "markdown",
   "id": "b774a3c6",
   "metadata": {},
   "source": [
    "25. Often reference genomes come with an index file, designated with .fai at the end of the file name, which provides summary information about each chromosome or scaffold in the reference genome. Find the .fai file associated with our reference genome in the `/shared` directory and take a look at it using `head`. The first column has the name of each chromosome and the second column has the length of that sequence. We will not worry about the remaining columns right now."
   ]
  },
  {
   "cell_type": "markdown",
   "id": "bd3fade1",
   "metadata": {},
   "source": [
    "**QUESTION: what is the longest chromosome in the _Z. indianus_ genome and how long is it?**"
   ]
  },
  {
   "cell_type": "markdown",
   "id": "907b9f52",
   "metadata": {},
   "source": [
    "**QUESTION: Round each chromosome to the nearest million bp to estimate the total size of the _Z. indianus_ reference genome**"
   ]
  },
  {
   "cell_type": "markdown",
   "id": "579436a9",
   "metadata": {},
   "source": [
    "**FINAL CHALLENGE QUESTION: Based on your answer above, how many 150 bp reads would we need in our sequencing to have an average depth of 10 (in other words, 10 sequencing reads spanning each position of the genome?**"
   ]
  },
  {
   "cell_type": "markdown",
   "id": "3b415e24",
   "metadata": {},
   "source": [
    "We will stop here for today, but next week we will learn how to process the raw sequencing reads and map them to a reference genome to find out where they align."
   ]
  },
  {
   "cell_type": "markdown",
   "id": "8f5dd98b",
   "metadata": {},
   "source": [
    "When you are done, use the File -> Print menu to print your notebook to a PDF. Alternatively, you can use File --> Export as --> PDF to save a PDF. Either way, upload your final PDF to Blackboard when you are done to get credit for today's lab. \n",
    "\n",
    "You're done! Great job :) "
   ]
  },
  {
   "cell_type": "code",
   "execution_count": null,
   "id": "7ce12fb2-15f7-4e20-a8fc-0d3b59853599",
   "metadata": {},
   "outputs": [],
   "source": []
  }
 ],
 "metadata": {
  "kernelspec": {
   "display_name": "Bash",
   "language": "bash",
   "name": "bash"
  },
  "language_info": {
   "codemirror_mode": "shell",
   "file_extension": ".sh",
   "mimetype": "text/x-sh",
   "name": "bash"
  }
 },
 "nbformat": 4,
 "nbformat_minor": 5
}
